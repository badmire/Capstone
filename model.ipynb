{
 "cells": [
  {
   "cell_type": "code",
   "execution_count": null,
   "metadata": {},
   "outputs": [],
   "source": [
    "# Steps:\n",
    "# 1. Take data from csvs into one variable\n",
    "# 2. Setup data into test and training set\n",
    "# 3. Create Model based on data\n",
    "# 4. Add additional CSV's and associate correctly\n",
    "from html.entities import name2codepoint\n",
    "from pycaret.classification import *\n",
    "import csv\n",
    "import pandas as pd\n",
    "from tkinter.filedialog import askopenfilenames\n",
    "\n",
    "test_number = 0\n",
    "result_lst = []\n",
    "data_lst = []\n",
    "\n",
    "def loadFiles():\n",
    "    file_names = askopenfilenames(title=\"Select file\", filetypes=[(\n",
    "        \"Data\", (\"*.csv\"))])\n",
    "    print(file_names)\n",
    "    return file_names\n",
    "\n",
    "def loadResults(filename, testnum):\n",
    "    with open(filename, mode='r', encoding='utf-8') as csv_file:\n",
    "        csv_reader = csv.DictReader(csv_file)\n",
    "        line_count = 0\n",
    "        for row in csv_reader:\n",
    "            curr_row = {}\n",
    "            curr_row[\"child_result\"] = row[\"child_result\"]\n",
    "            if line_count == testnum:\n",
    "                result_lst.append(curr_row)\n",
    "            line_count += 1\n",
    "        print(f'Processed {line_count} lines.')\n",
    "\n",
    "def loadData(filename):\n",
    "    with open(filename, mode='r', encoding='utf-8') as csv_file:\n",
    "        csv_reader = csv.DictReader(csv_file)\n",
    "        line_count = 0\n",
    "        curr_row = {}\n",
    "        filenames = []\n",
    "        for row in csv_reader:\n",
    "            filenames.append(row[\"Filename\"])\n",
    "            curr_row[\"num_changes\"] = row[\"total number of files changed for diff\"]\n",
    "            line_count += 1\n",
    "        curr_row[\"Filename\"] = filenames\n",
    "        data_lst.append(curr_row)\n",
    "        print(f'Processed {line_count} lines.')\n",
    "\n",
    "\n",
    "file_names = loadFiles()\n",
    "for name in file_names:\n",
    "    loadData(name)\n",
    "\n",
    "file_names = loadFiles()\n",
    "for name in file_names:\n",
    "    loadResults(name, test_number)\n",
    "\n",
    "for iterator in range(len(data_lst)):\n",
    "    data_lst[iterator]['child_result'] = result_lst[iterator]['child_result']\n",
    "\n",
    "dataset = pd.DataFrame(data_lst)\n",
    "\n",
    "test = data_lst[0]"
   ]
  },
  {
   "cell_type": "code",
   "execution_count": null,
   "metadata": {},
   "outputs": [],
   "source": [
    "data = dataset.sample(frac=0.80, random_state=786)\n",
    "data_unseen = dataset.drop(data.index)\n",
    "data.reset_index(inplace=True, drop=True)\n",
    "data_unseen.reset_index(inplace=True, drop=True)\n",
    "print('Data for Modeling: ' + str(data.shape))\n",
    "print('Unseen Data For Predictions: ' + str(data_unseen.shape))"
   ]
  },
  {
   "cell_type": "code",
   "execution_count": null,
   "metadata": {},
   "outputs": [],
   "source": [
    "s = setup(data, target = 'child_result', numeric_features= ['num_changes'])\n",
    "numeric_features= ['num_changes']"
   ]
  },
  {
   "cell_type": "code",
   "execution_count": null,
   "metadata": {},
   "outputs": [],
   "source": [
    "best_model = compare_models(include = ['lr', 'dt', 'lightgbm'])\n"
   ]
  },
  {
   "cell_type": "code",
   "execution_count": null,
   "metadata": {},
   "outputs": [],
   "source": [
    "rf = create_model('rf',fold=3)"
   ]
  },
  {
   "cell_type": "code",
   "execution_count": null,
   "metadata": {},
   "outputs": [],
   "source": [
    "tuned_rf = tune_model(rf, fold = 3)"
   ]
  },
  {
   "cell_type": "code",
   "execution_count": null,
   "metadata": {},
   "outputs": [],
   "source": [
    "predict_model(tuned_rf)"
   ]
  }
 ],
 "metadata": {
  "interpreter": {
   "hash": "ef15b0d65f6a17d08544f9735c9cee168207408b33232bd170a246a9a506f761"
  },
  "kernelspec": {
   "display_name": "Python 3.6.2 ('myenv': venv)",
   "language": "python",
   "name": "python3"
  },
  "language_info": {
   "codemirror_mode": {
    "name": "ipython",
    "version": 3
   },
   "file_extension": ".py",
   "mimetype": "text/x-python",
   "name": "python",
   "nbconvert_exporter": "python",
   "pygments_lexer": "ipython3",
   "version": "3.6.2"
  },
  "orig_nbformat": 4
 },
 "nbformat": 4,
 "nbformat_minor": 2
}
